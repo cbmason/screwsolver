{
 "cells": [
  {
   "cell_type": "markdown",
   "metadata": {},
   "source": [
    "# ScrewSolver\n",
    "\n",
    "This is a toy project for simming and solving the card game \"Ranter-Go-Round,\" also colloquially known as \"Screw Your Neighbor.\"\n",
    "Using this project involves two steps: running a simulation to generate a table of data, and then visualizing that data.  "
   ]
  },
  {
   "cell_type": "markdown",
   "metadata": {
    "tags": []
   },
   "source": [
    "## The Game\n",
    "From [Wikipedia](https://en.wikipedia.org/wiki/Ranter-Go-Round):\n",
    ">Any number of players may participate, using a standard deck of 52 cards without jokers. The card rankings (from highest to lowest) are K-Q-J-10-9-8-7-6-5-4-3-2-A, or alternately A-K-Q-J-10-9-8-7-6-5-4-3-2. Suits are irrelevant. The goal in each hand is to avoid ending up with a lower-valued card than any other player.[9]\n",
    "\n",
    ">Each player starts the game with the same number of chips or counters, usually two to four. When the game is played for money, all players contribute the same amount to a central pot. Each player is dealt one card face-down, after which play begins with the player to the left of the dealer. After examining this card, a player may either keep it or exchange it with the player on the left. However, if the intended recipient is holding a card of the highest value (depending on which set of rankings is being used), the recipient turns that card face-up and the trade is nullified. Any player who shows a top-value card in this manner is considered to have finished for that hand. Play proceeds clockwise around the table, with the dealer playing last; instead of trading cards with someone else, though, the dealer may exchange his or her card for the top one from the deck.\n"
   ]
  },
  {
   "cell_type": "markdown",
   "metadata": {
    "tags": []
   },
   "source": [
    "## The Goal    \n",
    "<img src=\"./img/blackjack_example.jpg\" width=\"300px\" align=\"right\" style=\"padding-right:200px\">\n",
    "The end goal to be demonstrated here is a **strategy card** similar to those that exist for blackjack.  For every starting hand, assuming we're first to act, we are looking to generate a chart that tells us whether to KEEP or PASS depending on how many villains we are facing.  To the right here is a sample blackjack chart:\n",
    "    "
   ]
  },
  {
   "cell_type": "markdown",
   "metadata": {},
   "source": [
    "## The Code\n",
    "- [cards.py](cards.py): Simple representation of a standard deck of playing cards\n",
    "- [screw_your_neighbor.py](screw_your_neighbor.py): Our python implementation of the mechanics of the game\n",
    "- [database.py](database.py): Classes / methods to log the results of our simulated games\n",
    "- [strategies.py](strategies.py): Classes representing the different strategies our simulated players will perform.  For this demo, we are mostly interested in the hero's strategy of \"pass if card is lower than x.\"  The villians for this demo will all play with perfect information, which maybe isn't super realistic, but will provide the strictest test of our hero's play.\n",
    "- [simulations.py](simulations.py): Sets up and runs specific gamestates, i.e. \"add 1 hero and 5 villians, each with certain strategies, to the table, and sim this game setup 1000 times.\"\n",
    "- [visualizer.py](visualizer.py): Given a database, generate pandas datatables, then generate graphs and visualizations from that datatable.\n"
   ]
  },
  {
   "cell_type": "markdown",
   "metadata": {},
   "source": [
    "## The Demo\n",
    "\n",
    "- The first block of code will run tens of thousands of iterations of the sim, and will populate a database with the results.\n",
    "- The second block runs a line graph visualization\n",
    "- The third block runs a heatmap visualization"
   ]
  },
  {
   "cell_type": "code",
   "execution_count": null,
   "metadata": {},
   "outputs": [],
   "source": [
    "import sys\n",
    "import os\n",
    "import simulations\n",
    "import visualizer\n",
    "\n",
    "DATA_DIR_NAME = \"data\"\n",
    "DB_NAME = simulations.DEFAULT_DB_NAME\n",
    "YES_KEYS = [\"yes\", \"y\"]\n",
    "\n",
    "if not os.path.exists(DATA_DIR_NAME):\n",
    "    os.mkdir(DATA_DIR_NAME)\n",
    "\n",
    "if os.path.exists(DB_NAME):\n",
    "    run_sim = input(\"Database already exists, would you still like to run the sim and add to it?\")\n",
    "    if run_sim.lower() in YES_KEYS:\n",
    "        simulations.run_first_pos_full_default()\n",
    "    else:\n",
    "        print(\"Skipping simulation...\")\n",
    "else:\n",
    "    simulations.run_first_pos_full_default()"
   ]
  },
  {
   "cell_type": "code",
   "execution_count": null,
   "metadata": {},
   "outputs": [],
   "source": [
    "regen = input(\"Would you like to overwrite any existing pandas data?  Doing so will take a LONG time (likely more than 30 mins)\")\n",
    "if regen.lower() in YES_KEYS:\n",
    "    force = True\n",
    "else:\n",
    "    force = False\n",
    "visualizer.main(viz_type=\"lines_all\", force_regen=force, image= (DATA_DIR_NAME + os.sep + \"lines_all\"), html=(DATA_DIR_NAME + os.sep + \"lines_all\"))"
   ]
  },
  {
   "cell_type": "code",
   "execution_count": null,
   "metadata": {},
   "outputs": [],
   "source": [
    "visualizer.main(viz_type=\"heatmap\", force_regen=False, image=(DATA_DIR_NAME + os.sep + \"heatmap\"), html=(DATA_DIR_NAME + os.sep + \"heatmap\"))"
   ]
  },
  {
   "cell_type": "code",
   "execution_count": null,
   "metadata": {},
   "outputs": [],
   "source": []
  }
 ],
 "metadata": {
  "interpreter": {
   "hash": "0600588c3b5f4418cbe7b5ebc6825b479f3bc010269d8b60d75058cdd010adfe"
  },
  "kernelspec": {
   "display_name": "Python 3",
   "language": "python",
   "name": "python3"
  },
  "language_info": {
   "codemirror_mode": {
    "name": "ipython",
    "version": 3
   },
   "file_extension": ".py",
   "mimetype": "text/x-python",
   "name": "python",
   "nbconvert_exporter": "python",
   "pygments_lexer": "ipython3",
   "version": "3.7.3"
  }
 },
 "nbformat": 4,
 "nbformat_minor": 4
}
